{
 "cells": [
  {
   "cell_type": "code",
   "execution_count": 1,
   "metadata": {},
   "outputs": [
    {
     "name": "stdout",
     "output_type": "stream",
     "text": [
      "Accuracy: 0.7552447552447552\n",
      "Survived\n"
     ]
    }
   ],
   "source": [
    "#Codsoft\n",
    "#Task 1\n",
    "# --> TITANIC SURVIVAL PREDICTION  <--\n",
    "#Importing required modules\n",
    "import pandas as p\n",
    "from sklearn.model_selection import train_test_split\n",
    "from sklearn.ensemble import RandomForestClassifier\n",
    "from sklearn.metrics import accuracy_score\n",
    "\n",
    "# Load the dataset\n",
    "titanicdf = p.read_csv(r\"C:\\Users\\jagad\\Downloads\\Titanic-Dataset.csv\")\n",
    "\n",
    "# Data preprocessing\n",
    "titanicdf.dropna(subset=['Age', 'Sex', 'Pclass'], inplace=True)\n",
    "titanicdf['Sex'] = titanicdf['Sex'].map({'male': 0, 'female': 1})\n",
    "\n",
    "# Select features and target variable\n",
    "X = titanicdf[['Pclass', 'Sex', 'Age']]\n",
    "y = titanicdf['Survived']\n",
    "\n",
    "# Split data into train and test sets\n",
    "X_train, X_test, y_train, y_test = train_test_split(X, y, test_size=0.2, random_state=42)\n",
    "\n",
    "# Train Random Forest Classifier\n",
    "a = RandomForestClassifier(n_estimators=100, random_state=42)\n",
    "a.fit(X_train, y_train)\n",
    "\n",
    "# Predict on the test set\n",
    "y_pred = a.predict(X_test)\n",
    "\n",
    "# Evaluate accuracy\n",
    "accuracy = accuracy_score(y_test, y_pred)\n",
    "print(\"Accuracy:\", accuracy)\n",
    "\n",
    "# Example prediction\n",
    "def predict_survival(pclass, sex, age):\n",
    "    input_data = p.DataFrame({'Pclass': [pclass], 'Sex': [sex], 'Age': [age]})\n",
    "    prediction = a.predict(input_data)[0]\n",
    "    if prediction == 1:\n",
    "        return \"Survived\"\n",
    "    else:\n",
    "        return \"Did not survive\"\n",
    "\n",
    "print(predict_survival(1, 1, 16))  # Example prediction for a 16-year-old female in first class"
   ]
  }
 ],
 "metadata": {
  "kernelspec": {
   "display_name": "Python 3",
   "language": "python",
   "name": "python3"
  },
  "language_info": {
   "codemirror_mode": {
    "name": "ipython",
    "version": 3
   },
   "file_extension": ".py",
   "mimetype": "text/x-python",
   "name": "python",
   "nbconvert_exporter": "python",
   "pygments_lexer": "ipython3",
   "version": "3.11.4"
  }
 },
 "nbformat": 4,
 "nbformat_minor": 2
}
